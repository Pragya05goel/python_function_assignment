{
 "cells": [
  {
   "cell_type": "markdown",
   "id": "619af4a1-8ddc-4373-bfb7-14f67d89e5cd",
   "metadata": {},
   "source": [
    "##                                              ASSIGNMENT"
   ]
  },
  {
   "cell_type": "markdown",
   "id": "7847099a-a3c5-4530-b9d0-1a268e1af928",
   "metadata": {},
   "source": [
    "Q1. Create a python program to sort the given list of tuples based on integer value using a\n",
    "lambda function.\n",
    "\n",
    "[('Sachin Tendulkar', 34357), ('Ricky Ponting', 27483), ('Jack Kallis', 25534), ('Virat Kohli', 24936)]"
   ]
  },
  {
   "cell_type": "code",
   "execution_count": 1,
   "id": "a562ee08-3b64-4257-ab0c-f4801ccd53ee",
   "metadata": {},
   "outputs": [
    {
     "data": {
      "text/plain": [
       "[('Virat Kohli', 24936),\n",
       " ('Jack Kallis', 25534),\n",
       " ('Ricky Ponting', 27483),\n",
       " ('Sachin Tendulkar', 34357)]"
      ]
     },
     "execution_count": 1,
     "metadata": {},
     "output_type": "execute_result"
    }
   ],
   "source": [
    "lst = [('Sachin Tendulkar', 34357), ('Ricky Ponting', 27483), ('Jack Kallis', 25534), ('Virat Kohli', 24936)]\n",
    "h=lambda x:list(reversed(x))\n",
    "h(lst)"
   ]
  },
  {
   "cell_type": "markdown",
   "id": "57dd5b54-353e-4cd9-b831-bae1767fc6da",
   "metadata": {},
   "source": [
    "Q2. Write a Python Program to find the squares of all the numbers in the given list of integers using\n",
    "lambda and map functions.\n",
    "\n",
    "[1, 2, 3, 4, 5, 6, 7, 8, 9, 10]"
   ]
  },
  {
   "cell_type": "code",
   "execution_count": 2,
   "id": "0c49b6c2-765d-4a7a-a8c8-9a7f4e4e8d42",
   "metadata": {},
   "outputs": [],
   "source": [
    "l=[1, 2, 3, 4, 5, 6, 7, 8, 9, 10]"
   ]
  },
  {
   "cell_type": "code",
   "execution_count": 3,
   "id": "dba1098b-0f50-4dd1-b17b-0eaae3bd9f00",
   "metadata": {},
   "outputs": [
    {
     "data": {
      "text/plain": [
       "[1, 4, 9, 16, 25, 36, 49, 64, 81, 100]"
      ]
     },
     "execution_count": 3,
     "metadata": {},
     "output_type": "execute_result"
    }
   ],
   "source": [
    "sq=lambda x:x**2\n",
    "l1=[]\n",
    "for i in range(0,len(l)):\n",
    "    l1.append(sq(l[i]))\n",
    "l1    "
   ]
  },
  {
   "cell_type": "code",
   "execution_count": 4,
   "id": "bd1d043e-fb4e-41a9-989a-2a6c43fc0b7c",
   "metadata": {},
   "outputs": [
    {
     "data": {
      "text/plain": [
       "[1, 4, 9, 16, 25, 36, 49, 64, 81, 100]"
      ]
     },
     "execution_count": 4,
     "metadata": {},
     "output_type": "execute_result"
    }
   ],
   "source": [
    "list(map(lambda x:x**2,l))"
   ]
  },
  {
   "cell_type": "markdown",
   "id": "04ad296d-3acb-4b1a-98f4-a7107e15fd25",
   "metadata": {},
   "source": [
    "Q3. Write a python program to convert the given list of integers into a tuple of strings. Use map and\n",
    "lambda functions\n",
    "\n",
    "Given String: [1, 2, 3, 4, 5, 6, 7, 8, 9, 10]\n",
    "\n",
    "Expected output: ('1', '2', '3', '4', '5', '6', '7', '8', '9', '10')"
   ]
  },
  {
   "cell_type": "code",
   "execution_count": 5,
   "id": "90223d8a-48be-4abb-b16a-9aba220643fa",
   "metadata": {},
   "outputs": [],
   "source": [
    "l=[1, 2, 3, 4, 5, 6, 7, 8, 9, 10]"
   ]
  },
  {
   "cell_type": "code",
   "execution_count": 6,
   "id": "623bedd2-491c-4747-9d67-2f426d80d78c",
   "metadata": {},
   "outputs": [
    {
     "data": {
      "text/plain": [
       "('1', '2', '3', '4', '5', '6', '7', '8', '9', '10')"
      ]
     },
     "execution_count": 6,
     "metadata": {},
     "output_type": "execute_result"
    }
   ],
   "source": [
    "con_str=lambda x:str(x)\n",
    "l1=[]\n",
    "for i in range(0,len(l)):\n",
    "    l1.append(str(l[i]))\n",
    "tuple(l1)\n"
   ]
  },
  {
   "cell_type": "code",
   "execution_count": 7,
   "id": "15344ccb-6fff-4a4d-8ee3-de6aef58a549",
   "metadata": {},
   "outputs": [
    {
     "data": {
      "text/plain": [
       "('1', '2', '3', '4', '5', '6', '7', '8', '9', '10')"
      ]
     },
     "execution_count": 7,
     "metadata": {},
     "output_type": "execute_result"
    }
   ],
   "source": [
    "tuple(map(lambda x:str(x),l))"
   ]
  },
  {
   "cell_type": "markdown",
   "id": "c78ea7ed-97d9-4b4a-ad86-022e6cc9c2c7",
   "metadata": {},
   "source": [
    "Q4. Write a python program using reduce function to compute the product of a list containing numbers\n",
    "from 1 to 25."
   ]
  },
  {
   "cell_type": "code",
   "execution_count": 8,
   "id": "5323c2ab-2d36-42a9-ab4b-dd01112f6fa2",
   "metadata": {},
   "outputs": [
    {
     "data": {
      "text/plain": [
       "15511210043330985984000000"
      ]
     },
     "execution_count": 8,
     "metadata": {},
     "output_type": "execute_result"
    }
   ],
   "source": [
    "from functools import reduce\n",
    "reduce(lambda x,y:x*y,range(1,26))"
   ]
  },
  {
   "cell_type": "markdown",
   "id": "23b5589f-3803-40c0-a05e-e4d25f6fb880",
   "metadata": {},
   "source": [
    "Q5. Write a python program to filter the numbers in a given list that are divisible by 2 and 3 using the\n",
    "filter function.\n",
    "\n",
    "[2, 3, 6, 9, 27, 60, 90, 120, 55, 46]"
   ]
  },
  {
   "cell_type": "code",
   "execution_count": 9,
   "id": "5760e2a7-c28c-4b7a-b7a9-37f7b7b923fe",
   "metadata": {},
   "outputs": [],
   "source": [
    "l=[2, 3, 6, 9, 27, 60, 90, 120, 55, 46]"
   ]
  },
  {
   "cell_type": "code",
   "execution_count": 10,
   "id": "b1d9819f-2a72-4582-9cef-a9ba62fbeff8",
   "metadata": {},
   "outputs": [
    {
     "data": {
      "text/plain": [
       "[6, 60, 90, 120]"
      ]
     },
     "execution_count": 10,
     "metadata": {},
     "output_type": "execute_result"
    }
   ],
   "source": [
    "l1=list(filter(lambda x:x%2==0 and x%3==0,l))\n",
    "l1"
   ]
  },
  {
   "cell_type": "markdown",
   "id": "bc6190b9-77bb-4e98-b1ad-285da03f0c07",
   "metadata": {},
   "source": [
    "Q6. Write a python program to find palindromes in the given list of strings using lambda and filter\n",
    "function.\n",
    "\n",
    "['python', 'php', 'aba', 'radar', 'level']"
   ]
  },
  {
   "cell_type": "code",
   "execution_count": 11,
   "id": "1a66278f-0d3a-47dd-aa71-e2a5a28924fa",
   "metadata": {},
   "outputs": [
    {
     "data": {
      "text/plain": [
       "['php', 'aba', 'radar', 'level']"
      ]
     },
     "execution_count": 11,
     "metadata": {},
     "output_type": "execute_result"
    }
   ],
   "source": [
    "l=['python', 'php', 'aba', 'radar', 'level']\n",
    "rev=lambda x:x if x==\"\".join(reversed(x)) else \"\"\n",
    "l1=[]\n",
    "for i in l:\n",
    "    if rev(i)==\"\":\n",
    "           continue\n",
    "    else:\n",
    "           l1.append(rev(i))\n",
    "l1           "
   ]
  },
  {
   "cell_type": "code",
   "execution_count": 12,
   "id": "ba66583b-3c18-49d3-aa27-6da49bc09f7b",
   "metadata": {},
   "outputs": [],
   "source": [
    "l2=list(filter(lambda x: x==\"\".join(reversed(x)),l))"
   ]
  },
  {
   "cell_type": "code",
   "execution_count": 13,
   "id": "819b788c-eadd-4571-b424-63e67d6cf7eb",
   "metadata": {},
   "outputs": [
    {
     "data": {
      "text/plain": [
       "['php', 'aba', 'radar', 'level']"
      ]
     },
     "execution_count": 13,
     "metadata": {},
     "output_type": "execute_result"
    }
   ],
   "source": [
    "l2"
   ]
  },
  {
   "cell_type": "markdown",
   "id": "04dfbc8d-8f30-4de3-b565-373c07d258b4",
   "metadata": {},
   "source": [
    "-------------------------------------------"
   ]
  }
 ],
 "metadata": {
  "kernelspec": {
   "display_name": "Python 3 (ipykernel)",
   "language": "python",
   "name": "python3"
  },
  "language_info": {
   "codemirror_mode": {
    "name": "ipython",
    "version": 3
   },
   "file_extension": ".py",
   "mimetype": "text/x-python",
   "name": "python",
   "nbconvert_exporter": "python",
   "pygments_lexer": "ipython3",
   "version": "3.10.8"
  }
 },
 "nbformat": 4,
 "nbformat_minor": 5
}
